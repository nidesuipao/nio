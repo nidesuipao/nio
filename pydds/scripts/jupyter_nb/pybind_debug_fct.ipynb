{
 "cells": [
  {
   "cell_type": "code",
   "execution_count": 7,
   "metadata": {},
   "outputs": [
    {
     "data": {
      "text/html": [
       "<style>.container { width:95% !important;  }</style>"
      ],
      "text/plain": [
       "<IPython.core.display.HTML object>"
      ]
     },
     "metadata": {},
     "output_type": "display_data"
    },
    {
     "ename": "ImportError",
     "evalue": "/mnt/hd/ws/feature_app.fy_ad_pnc/src/l2_pilot/tools/target/libpilot_task.so: undefined symbol: _ZN6apollo5cyber9transport13ShmDispatcher9_instanceE",
     "output_type": "error",
     "traceback": [
      "\u001b[0;31m---------------------------------------------------------------------------\u001b[0m",
      "\u001b[0;31mImportError\u001b[0m                               Traceback (most recent call last)",
      "Cell \u001b[0;32mIn[7], line 7\u001b[0m\n\u001b[1;32m      5\u001b[0m display(HTML(\u001b[39m\"\u001b[39m\u001b[39m<style>.container \u001b[39m\u001b[39m{\u001b[39m\u001b[39m width:95\u001b[39m\u001b[39m%\u001b[39m\u001b[39m !important;  }</style>\u001b[39m\u001b[39m\"\u001b[39m))\n\u001b[1;32m      6\u001b[0m sys\u001b[39m.\u001b[39mpath\u001b[39m.\u001b[39mappend(\u001b[39m'\u001b[39m\u001b[39m/mnt/hd/ws/feature_app.fy_ad_pnc/src/l2_pilot/tools/target\u001b[39m\u001b[39m'\u001b[39m)\n\u001b[0;32m----> 7\u001b[0m \u001b[39mimport\u001b[39;00m \u001b[39mnt2_pilot_debug\u001b[39;00m\n\u001b[1;32m      9\u001b[0m sys\u001b[39m.\u001b[39mpath\u001b[39m.\u001b[39mappend(\u001b[39m'\u001b[39m\u001b[39m./common\u001b[39m\u001b[39m'\u001b[39m)\n\u001b[1;32m     10\u001b[0m sys\u001b[39m.\u001b[39mpath\u001b[39m.\u001b[39mappend(\u001b[39m'\u001b[39m\u001b[39m/home/nio/hd_ws/fy_test_data/20230206T122220.SOC1/bin\u001b[39m\u001b[39m'\u001b[39m)\n",
      "\u001b[0;31mImportError\u001b[0m: /mnt/hd/ws/feature_app.fy_ad_pnc/src/l2_pilot/tools/target/libpilot_task.so: undefined symbol: _ZN6apollo5cyber9transport13ShmDispatcher9_instanceE"
     ]
    }
   ],
   "source": [
    "import os, sys, ipywidgets\n",
    "from IPython.core.display import HTML\n",
    "from IPython.display import display\n",
    "\n",
    "display(HTML(\"<style>.container { width:95% !important;  }</style>\"))\n",
    "sys.path.append('/mnt/hd/ws/feature_app.fy_ad_pnc/src/l2_pilot/tools/target')\n",
    "import nt2_pilot_debug\n",
    "\n",
    "sys.path.append('./common')\n",
    "sys.path.append('/home/nio/hd_ws/fy_test_data/20230206T122220.SOC1/bin')\n",
    "sys.path.append('/home/nio/hd_ws/fy_test_data/20230206T122220.SOC1/bin/python')\n",
    "sys.path.append('/home/nio/hd_ws/fy_test_data/20230206T122220.SOC1/bin/python/dds')\n",
    "sys.path.append('/home/nio/hd_ws/fy_test_data/20230206T122220.SOC1/bin/python/messages')\n",
    "\n",
    "cur_path = os.getcwd()\n",
    "os.environ['RECORD_ROOT_PATH'] = '/home/nio/hd_ws/fy_test_data/20230206T122220.SOC1/record'\n",
    "\n",
    "from common.bag import Bag\n",
    "from common.util import RecorcParser\n",
    "from conf.visio_conf import dict_topic\n",
    "record_parser = RecorcParser(dict_topic,-1, 1e9)\n",
    "dict_pb_msg, dict_aligned_index_of_fct = record_parser.Parser('/home/nio/hd_ws/fy_test_data/20230206T122220.SOC1/record')\n",
    "\n",
    "debug_output = ipywidgets.Output(layout={'border': '1px solid black'})\n",
    "\n",
    "@debug_output.capture(clear_output=True)\n",
    "\n",
    "def slider_callback(index):#, veh_50ms, relative_loc, ehy_rme, ehy_tse):\n",
    "    print(index)\n",
    "    nt2_pilot_debug.ExeutePilotTask(dict_pb_msg[dict_topic['veh_10ms']][int(index)][1],\n",
    "                                    dict_pb_msg[dict_topic['veh_50ms']][int(index)][1],\n",
    "                                    dict_pb_msg[dict_topic['relative_loc']][int(index)][1],\n",
    "                                    dict_pb_msg[dict_topic['ehy_rme']][int(index)][1],\n",
    "                                    dict_pb_msg[dict_topic['ehy_tse']][int(index)][1])\n",
    "    # display(debug_output)\n",
    "\n",
    "index_slider = ipywidgets.FloatSlider(layout=ipywidgets.Layout(width='50%'), min=0.0, max=100.0, value=0.0)\n",
    "ipywidgets.interact(slider_callback, index = index_slider)\n",
    "display(debug_output)"
   ]
  }
 ],
 "metadata": {
  "kernelspec": {
   "display_name": "Python 3",
   "language": "python",
   "name": "python3"
  },
  "language_info": {
   "codemirror_mode": {
    "name": "ipython",
    "version": 3
   },
   "file_extension": ".py",
   "mimetype": "text/x-python",
   "name": "python",
   "nbconvert_exporter": "python",
   "pygments_lexer": "ipython3",
   "version": "3.10.6 (main, Nov 14 2022, 16:10:14) [GCC 11.3.0]"
  },
  "orig_nbformat": 4,
  "vscode": {
   "interpreter": {
    "hash": "916dbcbb3f70747c44a77c7bcd40155683ae19c65e1c03b4aa3499c5328201f1"
   }
  }
 },
 "nbformat": 4,
 "nbformat_minor": 2
}
